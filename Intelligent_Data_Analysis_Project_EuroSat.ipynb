{
  "cells": [
    {
      "cell_type": "markdown",
      "metadata": {
        "id": "view-in-github",
        "colab_type": "text"
      },
      "source": [
        "<a href=\"https://colab.research.google.com/github/abdelilah-abdel/Deeplearning_projects/blob/main/Intelligent_Data_Analysis_Project_EuroSat.ipynb\" target=\"_parent\"><img src=\"https://colab.research.google.com/assets/colab-badge.svg\" alt=\"Open In Colab\"/></a>"
      ]
    },
    {
      "cell_type": "code",
      "execution_count": 1,
      "id": "bc1ee220",
      "metadata": {
        "id": "bc1ee220"
      },
      "outputs": [],
      "source": [
        "import random\n",
        "import pandas as pd\n",
        "import cv2\n",
        "import numpy as np\n",
        "\n",
        "import seaborn as sns\n",
        "import matplotlib.pyplot as plt\n",
        "\n",
        "from sklearn.model_selection import train_test_split\n",
        "from sklearn.metrics import confusion_matrix\n",
        "from sklearn.metrics import ConfusionMatrixDisplay\n",
        "\n",
        "import keras\n",
        "from keras import backend as K\n",
        "from keras.models import Sequential, Model\n",
        "from keras.layers import Dense, Dropout, Flatten, Reshape, Activation, Conv2D, MaxPooling2D, AveragePooling2D, BatchNormalization\n",
        "from keras.utils import *\n",
        "\n",
        "import tensorflow as tf\n",
        "import tensorflow_datasets as tfds\n",
        "\n",
        "%matplotlib inline\n",
        "\n",
        "# Hide Warnings\n",
        "# pd.options.mode.chained_assignment = None\n",
        "\n",
        "# Set Seeds\n",
        "tf.random.set_seed(42)\n",
        "seed = 42\n",
        "np.random.seed(42) # numpy seed (also used by keras)\n",
        "random.seed(42)\n"
      ]
    },
    {
      "cell_type": "markdown",
      "id": "397bf35f",
      "metadata": {
        "id": "397bf35f"
      },
      "source": [
        "# Intelligent Data Analysis 2 Project: EuroSAT"
      ]
    },
    {
      "cell_type": "markdown",
      "id": "818034b3",
      "metadata": {
        "id": "818034b3"
      },
      "source": [
        "## Problem Setting"
      ]
    },
    {
      "cell_type": "markdown",
      "id": "05c4ae72",
      "metadata": {
        "id": "05c4ae72"
      },
      "source": [
        "### Dataset\n",
        "\n",
        "EuroSAT: A Novel Dataset and Deep Learning Benchmark for Land Use and Land Cover Classification (Vol. 12, Number 7, pp. 2217–2226). Zenodo. https://doi.org/10.5281/zenodo.7711810\n",
        "\n",
        "EuroSAT is a land use and land cover classification dataset.\n",
        "\n",
        "The dataset is based on Sentinel-2 satellite imagery covering 13 spectral bands and consists of 10 LULC classes with a total of 27,000 labeled and geo-referenced images. The RGB version of the dataset includes the optical R, G and B frequency bands encoded as JPEG images. The multi-spectral version of the EuroSAT dataset includes all 13 Sentinel-2 bands in the original value range. This project uses the RGB version."
      ]
    },
    {
      "cell_type": "markdown",
      "id": "IhaedsjjERln",
      "metadata": {
        "id": "IhaedsjjERln"
      },
      "source": [
        "### Task\n",
        "\n",
        "Train a neural network that predicts the right class label (y) of 10 available labels for a given input image of size 64 x 64 px with the Channels R, G and B (X).\n",
        "\n"
      ]
    },
    {
      "cell_type": "markdown",
      "id": "Y_fGEkxUESKU",
      "metadata": {
        "id": "Y_fGEkxUESKU"
      },
      "source": [
        "### Learning Problem\n",
        "\n",
        "Multiclass image classification (supervised)"
      ]
    },
    {
      "cell_type": "markdown",
      "id": "316e4e23",
      "metadata": {
        "id": "316e4e23"
      },
      "source": [
        "## Explorative Data Analysis"
      ]
    },
    {
      "cell_type": "code",
      "execution_count": null,
      "id": "fa73d22d",
      "metadata": {
        "colab": {
          "base_uri": "https://localhost:8080/",
          "height": 130,
          "referenced_widgets": [
            "8fed83a6a1954b5194b16303b3c95a96",
            "48b87f0603174536acd4f3cfe2ee3314",
            "ef1512d45b914a14a41d3db02508f12f",
            "c114ce095e3c49ce8d6953cddd7f8ab0",
            "507ce8c51b854d90b155f7c0bec7d49e",
            "e55826127207461ba8b7968af679f9b5",
            "7a48c990b1c74197841b0918314bb634",
            "02ee3f02ccc441ce8950e58551540ed8",
            "1c005491a3ef4c57a4c0a83eca56dc47",
            "97f06b58213241019f79ad9445a708bd",
            "bc16be2027eb48369fb6e7bf39bb7bc9",
            "6bca0e106f8341afb904b9d732d019cd",
            "a2e27fc081624b5db369071a086d48bd",
            "4b8694861448459c936c418135c6f2e9",
            "1c70ebb636f046e4baa85e6a236f37ff",
            "7af3dc8ec29b436690d768c06c23e8a9",
            "a1a417d357df491aa5cf9f20e7bb9595",
            "ae0a4135c59546ab85f5e0819e26774d",
            "be863631183f46179c9aaec57197ae29",
            "0c9736a22cbe450f9c601249ad92e20b",
            "4ba64f1d9a914e10b38c4eb9aedd7c63",
            "b0bf8d3b3c1f43d1b3dd1c9ef2642547",
            "877783aed42644c4aea21f1df1988f3e",
            "2716cb3062f84091bebae9af8968b396",
            "414464514a0c40378efb78f565a59139",
            "ef7d026a0baf4c48ae993e4245faab70",
            "db89ca91bd41418daa8e0fcc6c3be6c9",
            "f162c265f10f4646acb978c04981ac7a",
            "1fe62c402f9b4bf4bfb4686ccf4730d4",
            "4ffc294b41b84f8ea6672d6a42c3108b",
            "4cee71767fc74332928020cbcbab16dc",
            "46c24b4c4d064a5faa37f04c25a47e10",
            "492679ae24c34d7e85b0f076ca82b5da"
          ]
        },
        "id": "fa73d22d",
        "outputId": "9d8e1733-8669-4b27-e61c-989a1f8ba79c"
      },
      "outputs": [
        {
          "output_type": "stream",
          "name": "stdout",
          "text": [
            "Downloading and preparing dataset 89.91 MiB (download: 89.91 MiB, generated: Unknown size, total: 89.91 MiB) to ./data/eurosat/eurosat/rgb/2.0.0...\n"
          ]
        },
        {
          "output_type": "display_data",
          "data": {
            "text/plain": [
              "Dl Completed...: 0 url [00:00, ? url/s]"
            ],
            "application/vnd.jupyter.widget-view+json": {
              "version_major": 2,
              "version_minor": 0,
              "model_id": "8fed83a6a1954b5194b16303b3c95a96"
            }
          },
          "metadata": {}
        },
        {
          "output_type": "display_data",
          "data": {
            "text/plain": [
              "Dl Size...: 0 MiB [00:00, ? MiB/s]"
            ],
            "application/vnd.jupyter.widget-view+json": {
              "version_major": 2,
              "version_minor": 0,
              "model_id": "6bca0e106f8341afb904b9d732d019cd"
            }
          },
          "metadata": {}
        },
        {
          "output_type": "display_data",
          "data": {
            "text/plain": [
              "Extraction completed...: 0 file [00:00, ? file/s]"
            ],
            "application/vnd.jupyter.widget-view+json": {
              "version_major": 2,
              "version_minor": 0,
              "model_id": "877783aed42644c4aea21f1df1988f3e"
            }
          },
          "metadata": {}
        }
      ],
      "source": [
        "ds, info = tfds.load('eurosat', split='all', data_dir='./data/eurosat', with_info=True)\n",
        "assert isinstance(ds, tf.data.Dataset)\n",
        "print(ds)\n",
        "\n",
        "ds = tfds.as_numpy(ds)\n",
        "\n",
        "images = []\n",
        "labels = []\n",
        "\n",
        "for image in ds:\n",
        "    images.append(image['image'])\n",
        "    labels.append(image['label'])\n",
        "\n",
        "print(len(images))\n",
        "print(len(labels))\n",
        "\n",
        "images = np.array(images)\n",
        "labels = np.array(labels)"
      ]
    },
    {
      "cell_type": "code",
      "execution_count": null,
      "id": "5a9952de",
      "metadata": {
        "id": "5a9952de"
      },
      "outputs": [],
      "source": [
        "info.features"
      ]
    },
    {
      "cell_type": "code",
      "execution_count": null,
      "id": "a5c4cd7a",
      "metadata": {
        "id": "a5c4cd7a"
      },
      "outputs": [],
      "source": [
        "# Labels\n",
        "print(\"Number of Labels:\", info.features[\"label\"].num_classes)\n",
        "print(\"Label Names:\", info.features[\"label\"].names)\n",
        "# print(info.features[\"label\"].int2str(7))  # Human readable version (8 -> 'cat')\n",
        "# print(info.features[\"label\"].str2int('AnnualCrop'))"
      ]
    },
    {
      "cell_type": "code",
      "execution_count": null,
      "id": "6fbcbfef",
      "metadata": {
        "id": "6fbcbfef"
      },
      "outputs": [],
      "source": [
        "fig, axs = plt.subplots(2, 5, figsize=(14, 6))\n",
        "\n",
        "label_id = 0\n",
        "for x in range(0, 2):\n",
        "        for y in range(0, 5):\n",
        "            for image, label in zip(images, labels):\n",
        "                if (label == label_id):\n",
        "                        axs[x, y].imshow(image)\n",
        "                        axs[x, y].set_title(str(label) + \" \" + info.features[\"label\"].int2str(label))\n",
        "                        axs[x, y].axis('off')\n",
        "                        label_id += 1\n",
        "                        break"
      ]
    },
    {
      "cell_type": "markdown",
      "id": "b5dc953c",
      "metadata": {
        "id": "b5dc953c"
      },
      "source": [
        "## Preprocessing"
      ]
    },
    {
      "cell_type": "code",
      "execution_count": null,
      "id": "18b40475",
      "metadata": {
        "id": "18b40475",
        "scrolled": true
      },
      "outputs": [],
      "source": [
        "# train_test_split shuffles the data\n",
        "X_train, X_test, y_train, y_test = train_test_split(images, labels, test_size=0.20, random_state=seed)\n",
        "# X_test, X_validation, y_test, y_validation = train_test_split(X_test, y_test, test_size=0.50, random_state=seed)\n",
        "\n",
        "print(len(X_train))\n",
        "print(len(X_test))\n",
        "# print(len(X_validation))"
      ]
    },
    {
      "cell_type": "code",
      "execution_count": null,
      "id": "07fe8af5",
      "metadata": {
        "id": "07fe8af5",
        "scrolled": true
      },
      "outputs": [],
      "source": [
        "# Data Augmentation of the training data set\n",
        "X_train_augmented = []\n",
        "y_train_augmented = []\n",
        "\n",
        "for image, label in zip(X_train, y_train):\n",
        "    break\n",
        "    # flip (cautious)\n",
        "    # not implemented\n",
        "\n",
        "    # rotate\n",
        "    # img_90 = cv2.rotate(image, cv2.ROTATE_90_CLOCKWISE)\n",
        "    # img_180 = cv2.rotate(image, cv2.ROTATE_180)\n",
        "    # img_270 = cv2.rotate(image, cv2.ROTATE_90_COUNTERCLOCKWISE)\n",
        "\n",
        "    # X_train_augmented.append(img_90)\n",
        "    # X_train_augmented.append(img_180)\n",
        "    # X_train_augmented.append(img_270)\n",
        "\n",
        "    # y_train_augmented.append(label)\n",
        "    # y_train_augmented.append(label)\n",
        "    # y_train_augmented.append(label)\n",
        "\n",
        "X_train_complete = np.array(list(X_train) + X_train_augmented)\n",
        "print(len(X_train_complete))\n",
        "\n",
        "y_train_complete = np.array(list(y_train) + y_train_augmented)\n",
        "print(len(y_train_complete))"
      ]
    },
    {
      "cell_type": "code",
      "execution_count": null,
      "id": "225146a1",
      "metadata": {
        "id": "225146a1",
        "scrolled": false
      },
      "outputs": [],
      "source": [
        "# Plot distribution of class labels in training and test set\n",
        "fig, axes = plt.subplots(nrows=1, ncols=2, figsize=(10, 6))\n",
        "sns.histplot(ax=axes[0], data=y_train_complete, bins=10)\n",
        "axes[0].set_title(\"Class Distribution in y_training\")\n",
        "axes[0].set_xticks(ticks=range(0, 10), labels=info.features[\"label\"].names, rotation=90)\n",
        "\n",
        "sns.histplot(ax=axes[1], data=y_test, bins=10)\n",
        "axes[1].set_title(\"Class Distribution in y_test\")\n",
        "axes[1].set_xticks(ticks=range(0, 10), labels=info.features[\"label\"].names, rotation=90)\n",
        "\n",
        "fig.tight_layout()"
      ]
    },
    {
      "cell_type": "code",
      "execution_count": null,
      "id": "65132462",
      "metadata": {
        "id": "65132462"
      },
      "outputs": [],
      "source": [
        "# normalize images\n",
        "min_val = np.amin(X_train_complete)\n",
        "max_val = np.amax(X_train_complete)\n",
        "X_train_rescaled = (X_train_complete.astype(float) - min_val) / (max_val - min_val)\n",
        "print(\"(x_train) min_val:\", min_val, \"max_val:\", max_val)\n",
        "\n",
        "min_val = np.amin(X_test)\n",
        "max_val = np.amax(X_test)\n",
        "X_test_rescaled = (X_test.astype(float) - min_val) / (max_val - min_val)\n",
        "print(\"(x_test) min_val:\", min_val, \"max_val:\", max_val)\n",
        "\n",
        "# Print comparison of original and rescaled image\n",
        "fig, axes = plt.subplots(nrows=1, ncols=2, figsize=(10, 4))\n",
        "axes[0].imshow(X_train_complete[0])\n",
        "axes[0].title.set_text('Original')\n",
        "axes[0].axis('off')\n",
        "\n",
        "axes[1].imshow(X_train_rescaled[0])\n",
        "axes[1].title.set_text('Rescaled')\n",
        "axes[1].axis('off')\n",
        "\n",
        "fig.tight_layout()"
      ]
    },
    {
      "cell_type": "code",
      "execution_count": null,
      "id": "iDsKSG3pEFPn",
      "metadata": {
        "id": "iDsKSG3pEFPn"
      },
      "outputs": [],
      "source": [
        "X_test_rescaled.shape"
      ]
    },
    {
      "cell_type": "code",
      "source": [
        "from keras.utils import to_categorical"
      ],
      "metadata": {
        "id": "zJK2KRZ2m0UF"
      },
      "id": "zJK2KRZ2m0UF",
      "execution_count": null,
      "outputs": []
    },
    {
      "cell_type": "code",
      "execution_count": null,
      "id": "c6cd9134",
      "metadata": {
        "id": "c6cd9134"
      },
      "outputs": [],
      "source": [
        "nb_classes = 10\n",
        "oneHotLabelTrain = to_categorical(y_train_complete, nb_classes)\n",
        "oneHotLabelTest  = to_categorical(y_test,  nb_classes)\n",
        "# oneHotLabelValidation  = np_utils.to_categorical(y_validation,  nb_classes)"
      ]
    },
    {
      "cell_type": "markdown",
      "id": "3bc5851f",
      "metadata": {
        "id": "3bc5851f"
      },
      "source": [
        "## Method Application"
      ]
    },
    {
      "cell_type": "markdown",
      "id": "01402da9",
      "metadata": {
        "id": "01402da9"
      },
      "source": [
        "### CNN based on exercise (baseline)"
      ]
    },
    {
      "cell_type": "code",
      "execution_count": null,
      "id": "f069b99c",
      "metadata": {
        "id": "f069b99c",
        "scrolled": false
      },
      "outputs": [],
      "source": [
        "# simple CNN\n",
        "def getBaselineCNNModel(\n",
        "    input_shape = (64, 64, 3),\n",
        "    nb_filters_one = 32,\n",
        "    nb_filters_two = 64,\n",
        "    nb_conv = 3,\n",
        "    nb_pool = 2,\n",
        "    dense_size = 128\n",
        "):\n",
        "\n",
        "    cnnModel = Sequential()\n",
        "    cnnModel.add(Conv2D(nb_filters_one, kernel_size=(nb_conv, nb_conv),\n",
        "                     activation='relu',\n",
        "                     input_shape=input_shape)) # convolutional layer\n",
        "    cnnModel.add(MaxPooling2D(pool_size=(nb_pool, nb_pool))) # max pooling layer\n",
        "    cnnModel.add(Dropout(0.25))\n",
        "    cnnModel.add(Flatten())\n",
        "    cnnModel.add(Dense(dense_size, activation='relu')) # dense layer\n",
        "    cnnModel.add(Dropout(0.5))\n",
        "    cnnModel.add(Dense(nb_classes, activation='softmax'))\n",
        "\n",
        "    cnnModel.compile(loss='categorical_crossentropy', optimizer='SGD', metrics=['accuracy'])\n",
        "    return cnnModel\n",
        "\n",
        "cnnModel = getBaselineCNNModel()\n",
        "cnnModel.summary()"
      ]
    },
    {
      "cell_type": "code",
      "execution_count": null,
      "id": "7c9dc624",
      "metadata": {
        "id": "7c9dc624",
        "scrolled": false
      },
      "outputs": [],
      "source": [
        "batch_size = 64\n",
        "numEpochs = 10\n",
        "\n",
        "cnnModel = getBaselineCNNModel()\n",
        "learnHistCNN = cnnModel.fit(X_train_rescaled,oneHotLabelTrain,\n",
        "                               validation_data=(X_test_rescaled,oneHotLabelTest),\n",
        "                               batch_size=batch_size,\n",
        "                               epochs=numEpochs)"
      ]
    },
    {
      "cell_type": "code",
      "execution_count": null,
      "id": "9e687d4e",
      "metadata": {
        "id": "9e687d4e",
        "scrolled": true
      },
      "outputs": [],
      "source": [
        "fig, axes = plt.subplots(nrows=1, ncols=2, figsize=(10, 4))\n",
        "axes[0].plot(learnHistCNN.history['loss'], label=\"loss\")\n",
        "axes[0].plot(learnHistCNN.history['val_loss'], label=\"validation_loss\")\n",
        "axes[0].title.set_text('Loss')\n",
        "axes[0].legend(loc=\"upper right\")\n",
        "\n",
        "axes[1].plot(learnHistCNN.history['accuracy'], label=\"accuracy\")\n",
        "axes[1].plot(learnHistCNN.history['val_accuracy'], label=\"val_accuracy\")\n",
        "axes[1].title.set_text('Accuracy')\n",
        "axes[1].legend(loc=\"upper right\")\n",
        "\n",
        "fig.tight_layout()"
      ]
    },
    {
      "cell_type": "code",
      "execution_count": null,
      "id": "f0fb9d0a",
      "metadata": {
        "id": "f0fb9d0a"
      },
      "outputs": [],
      "source": [
        "preds = cnnModel.predict(X_test_rescaled)\n",
        "class_labels = np.argmax(preds, axis=1)\n",
        "\n",
        "cnnModelCM = ConfusionMatrixDisplay.from_predictions(y_test,class_labels,display_labels=info.features[\"label\"].names,xticks_rotation='vertical')"
      ]
    },
    {
      "cell_type": "code",
      "source": [
        "import pickle\n",
        "\n",
        "# Create and train model...\n",
        "\n",
        "# Serialize entire model to .pkl file\n",
        "with open('model1.pkl', 'wb') as f:\n",
        "  pickle.dump(cnnModel, f)\n"
      ],
      "metadata": {
        "id": "Q1zZ4ulqn1KR"
      },
      "id": "Q1zZ4ulqn1KR",
      "execution_count": null,
      "outputs": []
    },
    {
      "cell_type": "markdown",
      "id": "af8a09dc",
      "metadata": {
        "id": "af8a09dc"
      },
      "source": [
        "### CNN (more advanced)"
      ]
    },
    {
      "cell_type": "code",
      "execution_count": null,
      "id": "e8cd6dbe",
      "metadata": {
        "id": "e8cd6dbe"
      },
      "outputs": [],
      "source": [
        "# Advanced CNN\n",
        "def getAdvancedCNNModel(\n",
        "    input_shape = (64, 64, 3),\n",
        "    nb_filters_one = 32,\n",
        "    nb_filters_two = 64,\n",
        "    nb_filters_three = 128,\n",
        "    nb_conv = 3,\n",
        "    nb_pool = 2,\n",
        "    dense_size = 256\n",
        "):\n",
        "\n",
        "    cnnModel = Sequential()\n",
        "\n",
        "    cnnModel.add(Conv2D(nb_filters_one, kernel_size=(nb_conv, nb_conv),\n",
        "                     activation='relu',\n",
        "                     input_shape=input_shape)) # convolutional layer\n",
        "    cnnModel.add(MaxPooling2D(pool_size=(nb_pool, nb_pool))) # max pooling layer\n",
        "\n",
        "    # make training faster and more stable through\n",
        "    # normalization of the layers' inputs by re-centering and re-scaling\n",
        "    # cnnModel.add(BatchNormalization())\n",
        "\n",
        "    cnnModel.add(Conv2D(nb_filters_two, kernel_size=(nb_conv, nb_conv),\n",
        "                     activation='relu',\n",
        "                     input_shape=input_shape)) # convolutional layer\n",
        "    cnnModel.add(MaxPooling2D(pool_size=(nb_pool, nb_pool))) # max pooling layer\n",
        "\n",
        "    cnnModel.add(Conv2D(nb_filters_three, kernel_size=(nb_conv, nb_conv),\n",
        "                     activation='relu',\n",
        "                     input_shape=input_shape)) # convolutional layer\n",
        "    cnnModel.add(MaxPooling2D(pool_size=(nb_pool, nb_pool))) # max pooling layer\n",
        "\n",
        "    # cnnModel.add(BatchNormalization())\n",
        "    cnnModel.add(Dropout(0.25))\n",
        "\n",
        "    cnnModel.add(Flatten())\n",
        "    cnnModel.add(Dense(dense_size, activation='relu')) # dense layer\n",
        "    # cnnModel.add(BatchNormalization())\n",
        "    cnnModel.add(Dropout(0.5))\n",
        "\n",
        "    cnnModel.add(Dense(nb_classes, activation='softmax'))\n",
        "\n",
        "    cnnModel.compile(loss='categorical_crossentropy', optimizer='SGD', metrics=['accuracy'])\n",
        "\n",
        "    return cnnModel\n",
        "\n",
        "cnnModelAdv = getAdvancedCNNModel()\n",
        "cnnModelAdv.summary()"
      ]
    },
    {
      "cell_type": "code",
      "execution_count": null,
      "id": "_W1X_z3oxgih",
      "metadata": {
        "id": "_W1X_z3oxgih"
      },
      "outputs": [],
      "source": [
        "batch_size = 64\n",
        "numEpochs = 10\n",
        "\n",
        "cnnModelAdv = getAdvancedCNNModel()\n",
        "learnHistCNNAdv = cnnModelAdv.fit(X_train_rescaled,oneHotLabelTrain,\n",
        "                               validation_data=(X_test_rescaled,oneHotLabelTest),\n",
        "                               batch_size=batch_size,\n",
        "                               epochs=numEpochs)"
      ]
    },
    {
      "cell_type": "code",
      "execution_count": null,
      "id": "Y-3LyYXcxvYp",
      "metadata": {
        "id": "Y-3LyYXcxvYp"
      },
      "outputs": [],
      "source": [
        "fig, axes = plt.subplots(nrows=1, ncols=2, figsize=(10, 4))\n",
        "axes[0].plot(learnHistCNNAdv.history['loss'], label=\"loss\")\n",
        "axes[0].plot(learnHistCNNAdv.history['val_loss'], label=\"validation_loss\")\n",
        "axes[0].title.set_text('Loss')\n",
        "axes[0].legend(loc=\"upper right\")\n",
        "\n",
        "axes[1].plot(learnHistCNNAdv.history['accuracy'], label=\"accuracy\")\n",
        "axes[1].plot(learnHistCNNAdv.history['val_accuracy'], label=\"val_accuracy\")\n",
        "axes[1].title.set_text('Accuracy')\n",
        "axes[1].legend(loc=\"upper right\")\n",
        "\n",
        "fig.tight_layout()"
      ]
    },
    {
      "cell_type": "code",
      "source": [
        "with open('model2.pkl', 'wb') as f:\n",
        "  pickle.dump(cnnModelAdv, f)"
      ],
      "metadata": {
        "id": "MqgRCZaCrTVU"
      },
      "id": "MqgRCZaCrTVU",
      "execution_count": null,
      "outputs": []
    },
    {
      "cell_type": "code",
      "execution_count": null,
      "id": "GYC2Cm85xyb0",
      "metadata": {
        "id": "GYC2Cm85xyb0"
      },
      "outputs": [],
      "source": [
        "preds = cnnModelAdv.predict(X_test_rescaled)\n",
        "class_labels = np.argmax(preds, axis=1)\n",
        "\n",
        "cnnModelAdvCM = ConfusionMatrixDisplay.from_predictions(y_test,\n",
        "                                            class_labels,\n",
        "                                            display_labels=info.features[\"label\"].names,\n",
        "                                            xticks_rotation='vertical')"
      ]
    },
    {
      "cell_type": "markdown",
      "id": "b92f09b6",
      "metadata": {
        "id": "b92f09b6"
      },
      "source": [
        "### ResNet (transfer learning)"
      ]
    },
    {
      "cell_type": "code",
      "execution_count": null,
      "id": "7b07c72b",
      "metadata": {
        "id": "7b07c72b"
      },
      "outputs": [],
      "source": [
        "def getResNet50():\n",
        "    nb_classes = 10\n",
        "    dense_size = 128\n",
        "\n",
        "    base_model = tf.keras.applications.ResNet50(weights = 'imagenet', include_top = False, input_shape = (64,64,3), pooling='avg')\n",
        "\n",
        "    for layer in base_model.layers:\n",
        "        layer.trainable = False\n",
        "\n",
        "    x = Flatten()(base_model.output)\n",
        "    x = Dense(dense_size, activation='relu')(x)\n",
        "    x = (Dropout(0.5))(x)\n",
        "    predictions = Dense(nb_classes, activation = 'softmax')(x)\n",
        "\n",
        "    head_model = Model(inputs = base_model.input, outputs = predictions)\n",
        "\n",
        "    head_model.compile(loss='categorical_crossentropy', optimizer='SGD', metrics=['accuracy'])\n",
        "\n",
        "    return head_model"
      ]
    },
    {
      "cell_type": "code",
      "execution_count": null,
      "id": "Kyjwpv13H9ba",
      "metadata": {
        "id": "Kyjwpv13H9ba"
      },
      "outputs": [],
      "source": [
        "resnetmodel = getResNet50()\n",
        "resnetmodel.summary()"
      ]
    },
    {
      "cell_type": "code",
      "execution_count": null,
      "id": "4a93dff5",
      "metadata": {
        "id": "4a93dff5"
      },
      "outputs": [],
      "source": [
        "batch_size = 32\n",
        "numEpochs = 10\n",
        "\n",
        "historyRes = resnetmodel.fit(X_train_complete, oneHotLabelTrain, batch_size=batch_size, epochs=numEpochs,\n",
        "                         validation_data=(X_test, oneHotLabelTest))"
      ]
    },
    {
      "cell_type": "code",
      "execution_count": null,
      "id": "4fd26550",
      "metadata": {
        "id": "4fd26550"
      },
      "outputs": [],
      "source": [
        "fig, axes = plt.subplots(nrows=1, ncols=2, figsize=(10, 4))\n",
        "axes[0].plot(historyRes.history['loss'], label=\"loss\")\n",
        "axes[0].plot(historyRes.history['val_loss'], label=\"validation_loss\")\n",
        "axes[0].title.set_text('Loss')\n",
        "axes[0].legend(loc=\"upper right\")\n",
        "\n",
        "axes[1].plot(historyRes.history['accuracy'], label=\"accuracy\")\n",
        "axes[1].plot(historyRes.history['val_accuracy'], label=\"val_accuracy\")\n",
        "axes[1].title.set_text('Accuracy')\n",
        "axes[1].legend(loc=\"upper right\")\n",
        "\n",
        "fig.tight_layout()"
      ]
    },
    {
      "cell_type": "code",
      "source": [
        "with open('model3.pkl', 'wb') as f:\n",
        "  pickle.dump(resnetmodel, f)"
      ],
      "metadata": {
        "id": "d3ZFjIQQr5ul"
      },
      "id": "d3ZFjIQQr5ul",
      "execution_count": null,
      "outputs": []
    },
    {
      "cell_type": "code",
      "execution_count": null,
      "id": "356a98d2",
      "metadata": {
        "id": "356a98d2"
      },
      "outputs": [],
      "source": [
        "preds = resnetmodel.predict(X_test)\n",
        "class_labels = np.argmax(preds, axis=1)\n",
        "\n",
        "resnetmodelCM = ConfusionMatrixDisplay.from_predictions(y_test,\n",
        "                                            class_labels,\n",
        "                                            display_labels=info.features[\"label\"].names,\n",
        "                                            xticks_rotation='vertical')"
      ]
    },
    {
      "cell_type": "markdown",
      "id": "c474036b",
      "metadata": {
        "id": "c474036b"
      },
      "source": [
        "\n",
        "## Experiments"
      ]
    },
    {
      "cell_type": "code",
      "execution_count": null,
      "id": "S9Vo0DZimkPO",
      "metadata": {
        "id": "S9Vo0DZimkPO"
      },
      "outputs": [],
      "source": [
        "!pip install keras-tuner --upgrade\n",
        "\n",
        "from keras_tuner import RandomSearch\n",
        "\n",
        "def getHyperparameterBaselineCNNModel(hp):\n",
        "    nb_filters_one = 32,\n",
        "    nb_filters_two = 64,\n",
        "\n",
        "    # hyperparameters\n",
        "    nb_conv = hp.Int('nb_conv', min_value=3, max_value=7, step=2)\n",
        "    dense_size = hp.Int('dense_size', min_value=32, max_value=128, step=16)\n",
        "    hp_learning_rate = hp.Choice('learning_rate', values=[1e-2, 1e-3, 1e-4])\n",
        "\n",
        "    cnnModel = Sequential()\n",
        "    cnnModel.add(Conv2D(32, kernel_size=(nb_conv, nb_conv), activation='relu', input_shape=(64, 64, 3))) # convolutional layer\n",
        "    cnnModel.add(MaxPooling2D(pool_size=(2, 2))) # max pooling layer\n",
        "    cnnModel.add(Dropout(0.25))\n",
        "    cnnModel.add(Flatten())\n",
        "    cnnModel.add(Dense(dense_size, activation='relu')) # dense layer\n",
        "    cnnModel.add(Dropout(0.5))\n",
        "    cnnModel.add(Dense(nb_classes, activation='softmax'))\n",
        "\n",
        "    cnnModel.compile(loss='categorical_crossentropy', optimizer=keras.optimizers.SGD(learning_rate=hp_learning_rate), metrics=['accuracy'])\n",
        "\n",
        "    return cnnModel\n",
        "\n",
        "# create randomsearch object\n",
        "tuner = RandomSearch(hypermodel=getHyperparameterBaselineCNNModel,\n",
        "                    objective = 'val_accuracy',\n",
        "                    max_trials = 10)\n",
        "\n",
        "# search for best parameter\n",
        "tuner.search(X_train_rescaled,\n",
        "             oneHotLabelTrain,\n",
        "             epochs=4,\n",
        "             validation_data=(X_test_rescaled,oneHotLabelTest),)"
      ]
    },
    {
      "cell_type": "code",
      "execution_count": null,
      "id": "oxn4K1ALqT0U",
      "metadata": {
        "id": "oxn4K1ALqT0U"
      },
      "outputs": [],
      "source": [
        "# Get the optimal hyperparameters\n",
        "best_hps = tuner.get_best_hyperparameters(num_trials=1)[0]\n",
        "print(\"dense_size\", best_hps.get('dense_size'))\n",
        "print(\"nb_conv\", best_hps.get('nb_conv'))\n",
        "print(\"learning_rate\", best_hps.get('learning_rate'))"
      ]
    },
    {
      "cell_type": "code",
      "execution_count": null,
      "id": "JzmuJBPeyQZg",
      "metadata": {
        "id": "JzmuJBPeyQZg"
      },
      "outputs": [],
      "source": [
        "# Build the model with the optimal hyperparameters and train it on the data for 50 epochs\n",
        "modelHyper = tuner.hypermodel.build(best_hps)\n",
        "historyHP = modelHyper.fit(X_train_rescaled, oneHotLabelTrain, epochs=10, validation_split=0.2)"
      ]
    },
    {
      "cell_type": "code",
      "execution_count": null,
      "id": "fAciL4M-Fc8W",
      "metadata": {
        "id": "fAciL4M-Fc8W"
      },
      "outputs": [],
      "source": [
        "modelHyper.summary()"
      ]
    },
    {
      "cell_type": "code",
      "execution_count": null,
      "id": "x4y9u2p5t3qq",
      "metadata": {
        "id": "x4y9u2p5t3qq"
      },
      "outputs": [],
      "source": [
        "fig, axes = plt.subplots(nrows=1, ncols=2, figsize=(10, 4))\n",
        "axes[0].plot(historyHP.history['loss'], label=\"loss\")\n",
        "axes[0].plot(historyHP.history['val_loss'], label=\"validation_loss\")\n",
        "axes[0].title.set_text('Loss')\n",
        "axes[0].legend(loc=\"upper right\")\n",
        "\n",
        "axes[1].plot(historyHP.history['accuracy'], label=\"accuracy\")\n",
        "axes[1].plot(historyHP.history['val_accuracy'], label=\"val_accuracy\")\n",
        "axes[1].title.set_text('Accuracy')\n",
        "axes[1].legend(loc=\"upper right\")\n",
        "\n",
        "fig.tight_layout()"
      ]
    },
    {
      "cell_type": "code",
      "execution_count": null,
      "id": "-PqeJKeMuntB",
      "metadata": {
        "id": "-PqeJKeMuntB"
      },
      "outputs": [],
      "source": [
        "preds = modelHyper.predict(X_test_rescaled)\n",
        "class_labels = np.argmax(preds, axis=1)\n",
        "\n",
        "modelHyperCM = ConfusionMatrixDisplay.from_predictions(y_test,\n",
        "                                            class_labels,\n",
        "                                            display_labels=info.features[\"label\"].names,\n",
        "                                            xticks_rotation='vertical')"
      ]
    },
    {
      "cell_type": "markdown",
      "id": "1a14e15d",
      "metadata": {
        "id": "1a14e15d"
      },
      "source": [
        "## Conclusions\n"
      ]
    },
    {
      "cell_type": "code",
      "execution_count": null,
      "id": "fIPMB4t705UG",
      "metadata": {
        "id": "fIPMB4t705UG"
      },
      "outputs": [],
      "source": [
        "# Comparison of models\n",
        "# df = pd.DataFrame(columns=['Total Params', 'Trainable Params', 'Non-Trainable Params', 'Loss', 'Val_Loss', 'Accuracy', 'Val_Accuracy',])\n",
        "\n",
        "# baseline - learnHistCNN - cnnModel\n",
        "cnnModelTrainable = np.sum([K.count_params(w) for w in cnnModel.trainable_weights])\n",
        "cnnModelNonTrainable = np.sum([K.count_params(w) for w in cnnModel.non_trainable_weights])\n",
        "cnnModelTotal = cnnModelTrainable + cnnModelNonTrainable\n",
        "cnnModelLoss = learnHistCNN.history['loss'][-1]\n",
        "cnnModelValLoss = learnHistCNN.history['val_loss'][-1]\n",
        "cnnModelAccuracy = learnHistCNN.history['accuracy'][-1]\n",
        "cnnModelValAccuracy = learnHistCNN.history['val_accuracy'][-1]\n",
        "\n",
        "# advanced - learnHistCNNAdv - cnnModelAdv\n",
        "cnnModelAdvTrainable = np.sum([K.count_params(w) for w in cnnModelAdv.trainable_weights])\n",
        "cnnModelAdvNonTrainable = np.sum([K.count_params(w) for w in cnnModelAdv.non_trainable_weights])\n",
        "cnnModelAdvTotal = cnnModelAdvTrainable + cnnModelAdvNonTrainable\n",
        "cnnModelAdvLoss = learnHistCNNAdv.history['loss'][-1]\n",
        "cnnModelAdvValLoss = learnHistCNNAdv.history['val_loss'][-1]\n",
        "cnnModelAdvAccuracy = learnHistCNNAdv.history['accuracy'][-1]\n",
        "cnnModelAdvValAccuracy = learnHistCNNAdv.history['val_accuracy'][-1]\n",
        "\n",
        "# resnet - historyRes - resnetmodel\n",
        "resnetmodelTrainable = np.sum([K.count_params(w) for w in resnetmodel.trainable_weights])\n",
        "resnetmodelNonTrainable = np.sum([K.count_params(w) for w in resnetmodel.non_trainable_weights])\n",
        "resnetmodelTotal = resnetmodelTrainable + resnetmodelNonTrainable\n",
        "resnetmodelLoss = historyRes.history['loss'][-1]\n",
        "resnetmodelValLoss = historyRes.history['val_loss'][-1]\n",
        "resnetmodelAccuracy = historyRes.history['accuracy'][-1]\n",
        "resnetmodelValAccuracy = historyRes.history['val_accuracy'][-1]\n",
        "\n",
        "# hyperparameter baseline - historyHP - modelHyper\n",
        "modelHyperTrainable = np.sum([K.count_params(w) for w in modelHyper.trainable_weights])\n",
        "modelHyperNonTrainable = np.sum([K.count_params(w) for w in modelHyper.non_trainable_weights])\n",
        "modelHyperTotal = modelHyperTrainable + modelHyperNonTrainable\n",
        "modelHyperLoss = historyHP.history['loss'][-1]\n",
        "modelHyperValLoss = historyHP.history['val_loss'][-1]\n",
        "modelHyperAccuracy = historyHP.history['accuracy'][-1]\n",
        "modelHyperValAccuracy = historyHP.history['val_accuracy'][-1]\n",
        "\n",
        "df = pd.DataFrame({'Name': [\"Baseline CNN\",\"Advanced CNN\",\"ResNet\",\"Baseline CNN (HP)\"],\n",
        "                   'Total Params' : [cnnModelTotal,cnnModelAdvTotal,resnetmodelTotal,modelHyperTotal],\n",
        "                   'Trainable Params' : [cnnModelTrainable,cnnModelAdvTrainable,resnetmodelTrainable,modelHyperTrainable],\n",
        "                   'Non-Trainable Params' : [cnnModelNonTrainable,cnnModelAdvNonTrainable,resnetmodelNonTrainable,modelHyperNonTrainable],\n",
        "                   'Loss' : [cnnModelLoss,cnnModelAdvLoss,resnetmodelLoss,modelHyperLoss],\n",
        "                   'Val_Loss' : [cnnModelValLoss,cnnModelAdvValLoss,resnetmodelValLoss,modelHyperValLoss],\n",
        "                   'Accuracy' : [cnnModelAccuracy,cnnModelAdvAccuracy,resnetmodelAccuracy,modelHyperAccuracy],\n",
        "                   'Val_Accuracy' : [cnnModelValAccuracy,cnnModelAdvValAccuracy,resnetmodelValAccuracy,modelHyperValAccuracy]})\n",
        "\n",
        "# format\n",
        "df['Total Params'] = df['Total Params'].astype('int64')\n",
        "df['Trainable Params'] = df['Trainable Params'].astype('int64')\n",
        "df['Non-Trainable Params'] = df['Non-Trainable Params'].astype('int64')\n",
        "pd.options.display.float_format = '{:.4f}'.format\n",
        "display(df)"
      ]
    },
    {
      "cell_type": "code",
      "execution_count": null,
      "id": "081b9e97",
      "metadata": {
        "id": "081b9e97"
      },
      "outputs": [],
      "source": [
        "# Comparison of models\n",
        "# baseline - learnHistCNN - cnnModel\n",
        "# advanced - learnHistCNNAdv - cnnModelAdv\n",
        "# resnet - historyRes - resnetmodel\n",
        "# hyperparameter baseline - historyHP - modelHyper\n",
        "\n",
        "fig, axes = plt.subplots(nrows=1, ncols=2, figsize=(14, 6))\n",
        "axes[0].plot(learnHistCNN.history['loss'], label=\"(baseline) loss\")\n",
        "axes[0].plot(learnHistCNN.history['val_loss'], label=\"(baseline) val_loss\")\n",
        "axes[0].plot(learnHistCNNAdv.history['loss'], label=\"(advanced) loss\")\n",
        "axes[0].plot(learnHistCNNAdv.history['val_loss'], label=\"(advanced) val_loss\")\n",
        "axes[0].plot(historyRes.history['loss'], label=\"(resnet) loss\")\n",
        "axes[0].plot(historyRes.history['val_loss'], label=\"(resnet) val_loss\")\n",
        "axes[0].plot(historyHP.history['loss'], label=\"(hp) loss\")\n",
        "axes[0].plot(historyHP.history['val_loss'], label=\"(hp) val_loss\")\n",
        "axes[0].title.set_text('Loss')\n",
        "axes[0].legend(loc=\"lower right\")\n",
        "\n",
        "axes[1].plot(learnHistCNN.history['accuracy'], label=\"(baseline) accuracy\")\n",
        "axes[1].plot(learnHistCNN.history['val_accuracy'], label=\"(baseline) val_accuracy\")\n",
        "axes[1].plot(learnHistCNNAdv.history['accuracy'], label=\"(advanced) accuracy\")\n",
        "axes[1].plot(learnHistCNNAdv.history['val_accuracy'], label=\"(advanced) val_accuracy\")\n",
        "axes[1].plot(historyRes.history['accuracy'], label=\"(resnet) accuracy\")\n",
        "axes[1].plot(historyRes.history['val_accuracy'], label=\"(resnet) val_accuracy\")\n",
        "axes[1].plot(historyHP.history['accuracy'], label=\"(hp) accuracy\")\n",
        "axes[1].plot(historyHP.history['val_accuracy'], label=\"(hp) val_accuracy\")\n",
        "axes[1].title.set_text('Accuracy')\n",
        "axes[1].legend(loc=\"lower right\")\n",
        "\n",
        "fig.tight_layout()"
      ]
    },
    {
      "cell_type": "code",
      "execution_count": null,
      "id": "guu8_wcU72sa",
      "metadata": {
        "id": "guu8_wcU72sa"
      },
      "outputs": [],
      "source": [
        "fig, axes = plt.subplots(nrows=1, ncols=4, figsize=(14, 6))\n",
        "cnnModelCM.plot(ax=axes[0])\n",
        "\n",
        "axes[0].title.set_text('Baseline CNN')\n",
        "axes[0].axis('off')\n",
        "\n",
        "cnnModelAdvCM.plot(ax=axes[1])\n",
        "axes[1].title.set_text('Advanced CNN')\n",
        "axes[1].axis('off')\n",
        "\n",
        "resnetmodelCM.plot(ax=axes[2])\n",
        "axes[2].title.set_text('ResNet')\n",
        "axes[2].axis('off')\n",
        "\n",
        "modelHyperCM.plot(ax=axes[3])\n",
        "axes[3].title.set_text('Baseline CNN (HP)')\n",
        "axes[3].axis('off')\n",
        "\n",
        "fig.tight_layout()"
      ]
    },
    {
      "cell_type": "code",
      "execution_count": null,
      "id": "XD0JDOtX7Voz",
      "metadata": {
        "id": "XD0JDOtX7Voz"
      },
      "outputs": [],
      "source": [
        "# ResNet outperforms all other models by far\n",
        "# Differences between baseline, advanced and hyper-parameter tuned CNN are not noticable"
      ]
    },
    {
      "cell_type": "code",
      "execution_count": null,
      "id": "dPbtDx2o7jyp",
      "metadata": {
        "id": "dPbtDx2o7jyp"
      },
      "outputs": [],
      "source": [
        "# Future Tests: Vision Transformers (see Dosovitskiy, A., Beyer, L., Kolesnikov, A., Weissenborn, D., Zhai, X., Unterthiner, T., ... & Houlsby, N. (2020). An image is worth 16x16 words: Transformers for image recognition at scale. arXiv preprint arXiv:2010.11929)\n",
        "# Autoencoder also possible but not the best option\n",
        "# - Vision Transformers https://keras.io/examples/vision/image_classification_with_vision_transformer/"
      ]
    }
  ],
  "metadata": {
    "accelerator": "GPU",
    "colab": {
      "provenance": [],
      "include_colab_link": true
    },
    "gpuClass": "standard",
    "kernelspec": {
      "display_name": "Python 3 (ipykernel)",
      "language": "python",
      "name": "python3"
    },
    "language_info": {
      "codemirror_mode": {
        "name": "ipython",
        "version": 3
      },
      "file_extension": ".py",
      "mimetype": "text/x-python",
      "name": "python",
      "nbconvert_exporter": "python",
      "pygments_lexer": "ipython3",
      "version": "3.9.13"
    },
    "toc": {
      "base_numbering": 1,
      "nav_menu": {},
      "number_sections": false,
      "sideBar": true,
      "skip_h1_title": true,
      "title_cell": "Table of Contents",
      "title_sidebar": "Contents",
      "toc_cell": false,
      "toc_position": {
        "height": "calc(100% - 180px)",
        "left": "10px",
        "top": "150px",
        "width": "256px"
      },
      "toc_section_display": true,
      "toc_window_display": true
    },
    "widgets": {
      "application/vnd.jupyter.widget-state+json": {
        "8fed83a6a1954b5194b16303b3c95a96": {
          "model_module": "@jupyter-widgets/controls",
          "model_name": "HBoxModel",
          "model_module_version": "1.5.0",
          "state": {
            "_dom_classes": [],
            "_model_module": "@jupyter-widgets/controls",
            "_model_module_version": "1.5.0",
            "_model_name": "HBoxModel",
            "_view_count": null,
            "_view_module": "@jupyter-widgets/controls",
            "_view_module_version": "1.5.0",
            "_view_name": "HBoxView",
            "box_style": "",
            "children": [
              "IPY_MODEL_48b87f0603174536acd4f3cfe2ee3314",
              "IPY_MODEL_ef1512d45b914a14a41d3db02508f12f",
              "IPY_MODEL_c114ce095e3c49ce8d6953cddd7f8ab0"
            ],
            "layout": "IPY_MODEL_507ce8c51b854d90b155f7c0bec7d49e"
          }
        },
        "48b87f0603174536acd4f3cfe2ee3314": {
          "model_module": "@jupyter-widgets/controls",
          "model_name": "HTMLModel",
          "model_module_version": "1.5.0",
          "state": {
            "_dom_classes": [],
            "_model_module": "@jupyter-widgets/controls",
            "_model_module_version": "1.5.0",
            "_model_name": "HTMLModel",
            "_view_count": null,
            "_view_module": "@jupyter-widgets/controls",
            "_view_module_version": "1.5.0",
            "_view_name": "HTMLView",
            "description": "",
            "description_tooltip": null,
            "layout": "IPY_MODEL_e55826127207461ba8b7968af679f9b5",
            "placeholder": "​",
            "style": "IPY_MODEL_7a48c990b1c74197841b0918314bb634",
            "value": "Dl Completed...: 100%"
          }
        },
        "ef1512d45b914a14a41d3db02508f12f": {
          "model_module": "@jupyter-widgets/controls",
          "model_name": "FloatProgressModel",
          "model_module_version": "1.5.0",
          "state": {
            "_dom_classes": [],
            "_model_module": "@jupyter-widgets/controls",
            "_model_module_version": "1.5.0",
            "_model_name": "FloatProgressModel",
            "_view_count": null,
            "_view_module": "@jupyter-widgets/controls",
            "_view_module_version": "1.5.0",
            "_view_name": "ProgressView",
            "bar_style": "info",
            "description": "",
            "description_tooltip": null,
            "layout": "IPY_MODEL_02ee3f02ccc441ce8950e58551540ed8",
            "max": 1,
            "min": 0,
            "orientation": "horizontal",
            "style": "IPY_MODEL_1c005491a3ef4c57a4c0a83eca56dc47",
            "value": 1
          }
        },
        "c114ce095e3c49ce8d6953cddd7f8ab0": {
          "model_module": "@jupyter-widgets/controls",
          "model_name": "HTMLModel",
          "model_module_version": "1.5.0",
          "state": {
            "_dom_classes": [],
            "_model_module": "@jupyter-widgets/controls",
            "_model_module_version": "1.5.0",
            "_model_name": "HTMLModel",
            "_view_count": null,
            "_view_module": "@jupyter-widgets/controls",
            "_view_module_version": "1.5.0",
            "_view_name": "HTMLView",
            "description": "",
            "description_tooltip": null,
            "layout": "IPY_MODEL_97f06b58213241019f79ad9445a708bd",
            "placeholder": "​",
            "style": "IPY_MODEL_bc16be2027eb48369fb6e7bf39bb7bc9",
            "value": " 1/1 [00:34&lt;00:00,  7.32s/ url]"
          }
        },
        "507ce8c51b854d90b155f7c0bec7d49e": {
          "model_module": "@jupyter-widgets/base",
          "model_name": "LayoutModel",
          "model_module_version": "1.2.0",
          "state": {
            "_model_module": "@jupyter-widgets/base",
            "_model_module_version": "1.2.0",
            "_model_name": "LayoutModel",
            "_view_count": null,
            "_view_module": "@jupyter-widgets/base",
            "_view_module_version": "1.2.0",
            "_view_name": "LayoutView",
            "align_content": null,
            "align_items": null,
            "align_self": null,
            "border": null,
            "bottom": null,
            "display": null,
            "flex": null,
            "flex_flow": null,
            "grid_area": null,
            "grid_auto_columns": null,
            "grid_auto_flow": null,
            "grid_auto_rows": null,
            "grid_column": null,
            "grid_gap": null,
            "grid_row": null,
            "grid_template_areas": null,
            "grid_template_columns": null,
            "grid_template_rows": null,
            "height": null,
            "justify_content": null,
            "justify_items": null,
            "left": null,
            "margin": null,
            "max_height": null,
            "max_width": null,
            "min_height": null,
            "min_width": null,
            "object_fit": null,
            "object_position": null,
            "order": null,
            "overflow": null,
            "overflow_x": null,
            "overflow_y": null,
            "padding": null,
            "right": null,
            "top": null,
            "visibility": null,
            "width": null
          }
        },
        "e55826127207461ba8b7968af679f9b5": {
          "model_module": "@jupyter-widgets/base",
          "model_name": "LayoutModel",
          "model_module_version": "1.2.0",
          "state": {
            "_model_module": "@jupyter-widgets/base",
            "_model_module_version": "1.2.0",
            "_model_name": "LayoutModel",
            "_view_count": null,
            "_view_module": "@jupyter-widgets/base",
            "_view_module_version": "1.2.0",
            "_view_name": "LayoutView",
            "align_content": null,
            "align_items": null,
            "align_self": null,
            "border": null,
            "bottom": null,
            "display": null,
            "flex": null,
            "flex_flow": null,
            "grid_area": null,
            "grid_auto_columns": null,
            "grid_auto_flow": null,
            "grid_auto_rows": null,
            "grid_column": null,
            "grid_gap": null,
            "grid_row": null,
            "grid_template_areas": null,
            "grid_template_columns": null,
            "grid_template_rows": null,
            "height": null,
            "justify_content": null,
            "justify_items": null,
            "left": null,
            "margin": null,
            "max_height": null,
            "max_width": null,
            "min_height": null,
            "min_width": null,
            "object_fit": null,
            "object_position": null,
            "order": null,
            "overflow": null,
            "overflow_x": null,
            "overflow_y": null,
            "padding": null,
            "right": null,
            "top": null,
            "visibility": null,
            "width": null
          }
        },
        "7a48c990b1c74197841b0918314bb634": {
          "model_module": "@jupyter-widgets/controls",
          "model_name": "DescriptionStyleModel",
          "model_module_version": "1.5.0",
          "state": {
            "_model_module": "@jupyter-widgets/controls",
            "_model_module_version": "1.5.0",
            "_model_name": "DescriptionStyleModel",
            "_view_count": null,
            "_view_module": "@jupyter-widgets/base",
            "_view_module_version": "1.2.0",
            "_view_name": "StyleView",
            "description_width": ""
          }
        },
        "02ee3f02ccc441ce8950e58551540ed8": {
          "model_module": "@jupyter-widgets/base",
          "model_name": "LayoutModel",
          "model_module_version": "1.2.0",
          "state": {
            "_model_module": "@jupyter-widgets/base",
            "_model_module_version": "1.2.0",
            "_model_name": "LayoutModel",
            "_view_count": null,
            "_view_module": "@jupyter-widgets/base",
            "_view_module_version": "1.2.0",
            "_view_name": "LayoutView",
            "align_content": null,
            "align_items": null,
            "align_self": null,
            "border": null,
            "bottom": null,
            "display": null,
            "flex": null,
            "flex_flow": null,
            "grid_area": null,
            "grid_auto_columns": null,
            "grid_auto_flow": null,
            "grid_auto_rows": null,
            "grid_column": null,
            "grid_gap": null,
            "grid_row": null,
            "grid_template_areas": null,
            "grid_template_columns": null,
            "grid_template_rows": null,
            "height": null,
            "justify_content": null,
            "justify_items": null,
            "left": null,
            "margin": null,
            "max_height": null,
            "max_width": null,
            "min_height": null,
            "min_width": null,
            "object_fit": null,
            "object_position": null,
            "order": null,
            "overflow": null,
            "overflow_x": null,
            "overflow_y": null,
            "padding": null,
            "right": null,
            "top": null,
            "visibility": null,
            "width": "20px"
          }
        },
        "1c005491a3ef4c57a4c0a83eca56dc47": {
          "model_module": "@jupyter-widgets/controls",
          "model_name": "ProgressStyleModel",
          "model_module_version": "1.5.0",
          "state": {
            "_model_module": "@jupyter-widgets/controls",
            "_model_module_version": "1.5.0",
            "_model_name": "ProgressStyleModel",
            "_view_count": null,
            "_view_module": "@jupyter-widgets/base",
            "_view_module_version": "1.2.0",
            "_view_name": "StyleView",
            "bar_color": null,
            "description_width": ""
          }
        },
        "97f06b58213241019f79ad9445a708bd": {
          "model_module": "@jupyter-widgets/base",
          "model_name": "LayoutModel",
          "model_module_version": "1.2.0",
          "state": {
            "_model_module": "@jupyter-widgets/base",
            "_model_module_version": "1.2.0",
            "_model_name": "LayoutModel",
            "_view_count": null,
            "_view_module": "@jupyter-widgets/base",
            "_view_module_version": "1.2.0",
            "_view_name": "LayoutView",
            "align_content": null,
            "align_items": null,
            "align_self": null,
            "border": null,
            "bottom": null,
            "display": null,
            "flex": null,
            "flex_flow": null,
            "grid_area": null,
            "grid_auto_columns": null,
            "grid_auto_flow": null,
            "grid_auto_rows": null,
            "grid_column": null,
            "grid_gap": null,
            "grid_row": null,
            "grid_template_areas": null,
            "grid_template_columns": null,
            "grid_template_rows": null,
            "height": null,
            "justify_content": null,
            "justify_items": null,
            "left": null,
            "margin": null,
            "max_height": null,
            "max_width": null,
            "min_height": null,
            "min_width": null,
            "object_fit": null,
            "object_position": null,
            "order": null,
            "overflow": null,
            "overflow_x": null,
            "overflow_y": null,
            "padding": null,
            "right": null,
            "top": null,
            "visibility": null,
            "width": null
          }
        },
        "bc16be2027eb48369fb6e7bf39bb7bc9": {
          "model_module": "@jupyter-widgets/controls",
          "model_name": "DescriptionStyleModel",
          "model_module_version": "1.5.0",
          "state": {
            "_model_module": "@jupyter-widgets/controls",
            "_model_module_version": "1.5.0",
            "_model_name": "DescriptionStyleModel",
            "_view_count": null,
            "_view_module": "@jupyter-widgets/base",
            "_view_module_version": "1.2.0",
            "_view_name": "StyleView",
            "description_width": ""
          }
        },
        "6bca0e106f8341afb904b9d732d019cd": {
          "model_module": "@jupyter-widgets/controls",
          "model_name": "HBoxModel",
          "model_module_version": "1.5.0",
          "state": {
            "_dom_classes": [],
            "_model_module": "@jupyter-widgets/controls",
            "_model_module_version": "1.5.0",
            "_model_name": "HBoxModel",
            "_view_count": null,
            "_view_module": "@jupyter-widgets/controls",
            "_view_module_version": "1.5.0",
            "_view_name": "HBoxView",
            "box_style": "",
            "children": [
              "IPY_MODEL_a2e27fc081624b5db369071a086d48bd",
              "IPY_MODEL_4b8694861448459c936c418135c6f2e9",
              "IPY_MODEL_1c70ebb636f046e4baa85e6a236f37ff"
            ],
            "layout": "IPY_MODEL_7af3dc8ec29b436690d768c06c23e8a9"
          }
        },
        "a2e27fc081624b5db369071a086d48bd": {
          "model_module": "@jupyter-widgets/controls",
          "model_name": "HTMLModel",
          "model_module_version": "1.5.0",
          "state": {
            "_dom_classes": [],
            "_model_module": "@jupyter-widgets/controls",
            "_model_module_version": "1.5.0",
            "_model_name": "HTMLModel",
            "_view_count": null,
            "_view_module": "@jupyter-widgets/controls",
            "_view_module_version": "1.5.0",
            "_view_name": "HTMLView",
            "description": "",
            "description_tooltip": null,
            "layout": "IPY_MODEL_a1a417d357df491aa5cf9f20e7bb9595",
            "placeholder": "​",
            "style": "IPY_MODEL_ae0a4135c59546ab85f5e0819e26774d",
            "value": "Dl Size...: 100%"
          }
        },
        "4b8694861448459c936c418135c6f2e9": {
          "model_module": "@jupyter-widgets/controls",
          "model_name": "FloatProgressModel",
          "model_module_version": "1.5.0",
          "state": {
            "_dom_classes": [],
            "_model_module": "@jupyter-widgets/controls",
            "_model_module_version": "1.5.0",
            "_model_name": "FloatProgressModel",
            "_view_count": null,
            "_view_module": "@jupyter-widgets/controls",
            "_view_module_version": "1.5.0",
            "_view_name": "ProgressView",
            "bar_style": "info",
            "description": "",
            "description_tooltip": null,
            "layout": "IPY_MODEL_be863631183f46179c9aaec57197ae29",
            "max": 1,
            "min": 0,
            "orientation": "horizontal",
            "style": "IPY_MODEL_0c9736a22cbe450f9c601249ad92e20b",
            "value": 1
          }
        },
        "1c70ebb636f046e4baa85e6a236f37ff": {
          "model_module": "@jupyter-widgets/controls",
          "model_name": "HTMLModel",
          "model_module_version": "1.5.0",
          "state": {
            "_dom_classes": [],
            "_model_module": "@jupyter-widgets/controls",
            "_model_module_version": "1.5.0",
            "_model_name": "HTMLModel",
            "_view_count": null,
            "_view_module": "@jupyter-widgets/controls",
            "_view_module_version": "1.5.0",
            "_view_name": "HTMLView",
            "description": "",
            "description_tooltip": null,
            "layout": "IPY_MODEL_4ba64f1d9a914e10b38c4eb9aedd7c63",
            "placeholder": "​",
            "style": "IPY_MODEL_b0bf8d3b3c1f43d1b3dd1c9ef2642547",
            "value": " 89/89 [00:34&lt;00:00, 14.69 MiB/s]"
          }
        },
        "7af3dc8ec29b436690d768c06c23e8a9": {
          "model_module": "@jupyter-widgets/base",
          "model_name": "LayoutModel",
          "model_module_version": "1.2.0",
          "state": {
            "_model_module": "@jupyter-widgets/base",
            "_model_module_version": "1.2.0",
            "_model_name": "LayoutModel",
            "_view_count": null,
            "_view_module": "@jupyter-widgets/base",
            "_view_module_version": "1.2.0",
            "_view_name": "LayoutView",
            "align_content": null,
            "align_items": null,
            "align_self": null,
            "border": null,
            "bottom": null,
            "display": null,
            "flex": null,
            "flex_flow": null,
            "grid_area": null,
            "grid_auto_columns": null,
            "grid_auto_flow": null,
            "grid_auto_rows": null,
            "grid_column": null,
            "grid_gap": null,
            "grid_row": null,
            "grid_template_areas": null,
            "grid_template_columns": null,
            "grid_template_rows": null,
            "height": null,
            "justify_content": null,
            "justify_items": null,
            "left": null,
            "margin": null,
            "max_height": null,
            "max_width": null,
            "min_height": null,
            "min_width": null,
            "object_fit": null,
            "object_position": null,
            "order": null,
            "overflow": null,
            "overflow_x": null,
            "overflow_y": null,
            "padding": null,
            "right": null,
            "top": null,
            "visibility": null,
            "width": null
          }
        },
        "a1a417d357df491aa5cf9f20e7bb9595": {
          "model_module": "@jupyter-widgets/base",
          "model_name": "LayoutModel",
          "model_module_version": "1.2.0",
          "state": {
            "_model_module": "@jupyter-widgets/base",
            "_model_module_version": "1.2.0",
            "_model_name": "LayoutModel",
            "_view_count": null,
            "_view_module": "@jupyter-widgets/base",
            "_view_module_version": "1.2.0",
            "_view_name": "LayoutView",
            "align_content": null,
            "align_items": null,
            "align_self": null,
            "border": null,
            "bottom": null,
            "display": null,
            "flex": null,
            "flex_flow": null,
            "grid_area": null,
            "grid_auto_columns": null,
            "grid_auto_flow": null,
            "grid_auto_rows": null,
            "grid_column": null,
            "grid_gap": null,
            "grid_row": null,
            "grid_template_areas": null,
            "grid_template_columns": null,
            "grid_template_rows": null,
            "height": null,
            "justify_content": null,
            "justify_items": null,
            "left": null,
            "margin": null,
            "max_height": null,
            "max_width": null,
            "min_height": null,
            "min_width": null,
            "object_fit": null,
            "object_position": null,
            "order": null,
            "overflow": null,
            "overflow_x": null,
            "overflow_y": null,
            "padding": null,
            "right": null,
            "top": null,
            "visibility": null,
            "width": null
          }
        },
        "ae0a4135c59546ab85f5e0819e26774d": {
          "model_module": "@jupyter-widgets/controls",
          "model_name": "DescriptionStyleModel",
          "model_module_version": "1.5.0",
          "state": {
            "_model_module": "@jupyter-widgets/controls",
            "_model_module_version": "1.5.0",
            "_model_name": "DescriptionStyleModel",
            "_view_count": null,
            "_view_module": "@jupyter-widgets/base",
            "_view_module_version": "1.2.0",
            "_view_name": "StyleView",
            "description_width": ""
          }
        },
        "be863631183f46179c9aaec57197ae29": {
          "model_module": "@jupyter-widgets/base",
          "model_name": "LayoutModel",
          "model_module_version": "1.2.0",
          "state": {
            "_model_module": "@jupyter-widgets/base",
            "_model_module_version": "1.2.0",
            "_model_name": "LayoutModel",
            "_view_count": null,
            "_view_module": "@jupyter-widgets/base",
            "_view_module_version": "1.2.0",
            "_view_name": "LayoutView",
            "align_content": null,
            "align_items": null,
            "align_self": null,
            "border": null,
            "bottom": null,
            "display": null,
            "flex": null,
            "flex_flow": null,
            "grid_area": null,
            "grid_auto_columns": null,
            "grid_auto_flow": null,
            "grid_auto_rows": null,
            "grid_column": null,
            "grid_gap": null,
            "grid_row": null,
            "grid_template_areas": null,
            "grid_template_columns": null,
            "grid_template_rows": null,
            "height": null,
            "justify_content": null,
            "justify_items": null,
            "left": null,
            "margin": null,
            "max_height": null,
            "max_width": null,
            "min_height": null,
            "min_width": null,
            "object_fit": null,
            "object_position": null,
            "order": null,
            "overflow": null,
            "overflow_x": null,
            "overflow_y": null,
            "padding": null,
            "right": null,
            "top": null,
            "visibility": null,
            "width": "20px"
          }
        },
        "0c9736a22cbe450f9c601249ad92e20b": {
          "model_module": "@jupyter-widgets/controls",
          "model_name": "ProgressStyleModel",
          "model_module_version": "1.5.0",
          "state": {
            "_model_module": "@jupyter-widgets/controls",
            "_model_module_version": "1.5.0",
            "_model_name": "ProgressStyleModel",
            "_view_count": null,
            "_view_module": "@jupyter-widgets/base",
            "_view_module_version": "1.2.0",
            "_view_name": "StyleView",
            "bar_color": null,
            "description_width": ""
          }
        },
        "4ba64f1d9a914e10b38c4eb9aedd7c63": {
          "model_module": "@jupyter-widgets/base",
          "model_name": "LayoutModel",
          "model_module_version": "1.2.0",
          "state": {
            "_model_module": "@jupyter-widgets/base",
            "_model_module_version": "1.2.0",
            "_model_name": "LayoutModel",
            "_view_count": null,
            "_view_module": "@jupyter-widgets/base",
            "_view_module_version": "1.2.0",
            "_view_name": "LayoutView",
            "align_content": null,
            "align_items": null,
            "align_self": null,
            "border": null,
            "bottom": null,
            "display": null,
            "flex": null,
            "flex_flow": null,
            "grid_area": null,
            "grid_auto_columns": null,
            "grid_auto_flow": null,
            "grid_auto_rows": null,
            "grid_column": null,
            "grid_gap": null,
            "grid_row": null,
            "grid_template_areas": null,
            "grid_template_columns": null,
            "grid_template_rows": null,
            "height": null,
            "justify_content": null,
            "justify_items": null,
            "left": null,
            "margin": null,
            "max_height": null,
            "max_width": null,
            "min_height": null,
            "min_width": null,
            "object_fit": null,
            "object_position": null,
            "order": null,
            "overflow": null,
            "overflow_x": null,
            "overflow_y": null,
            "padding": null,
            "right": null,
            "top": null,
            "visibility": null,
            "width": null
          }
        },
        "b0bf8d3b3c1f43d1b3dd1c9ef2642547": {
          "model_module": "@jupyter-widgets/controls",
          "model_name": "DescriptionStyleModel",
          "model_module_version": "1.5.0",
          "state": {
            "_model_module": "@jupyter-widgets/controls",
            "_model_module_version": "1.5.0",
            "_model_name": "DescriptionStyleModel",
            "_view_count": null,
            "_view_module": "@jupyter-widgets/base",
            "_view_module_version": "1.2.0",
            "_view_name": "StyleView",
            "description_width": ""
          }
        },
        "877783aed42644c4aea21f1df1988f3e": {
          "model_module": "@jupyter-widgets/controls",
          "model_name": "HBoxModel",
          "model_module_version": "1.5.0",
          "state": {
            "_dom_classes": [],
            "_model_module": "@jupyter-widgets/controls",
            "_model_module_version": "1.5.0",
            "_model_name": "HBoxModel",
            "_view_count": null,
            "_view_module": "@jupyter-widgets/controls",
            "_view_module_version": "1.5.0",
            "_view_name": "HBoxView",
            "box_style": "",
            "children": [
              "IPY_MODEL_2716cb3062f84091bebae9af8968b396",
              "IPY_MODEL_414464514a0c40378efb78f565a59139",
              "IPY_MODEL_ef7d026a0baf4c48ae993e4245faab70"
            ],
            "layout": "IPY_MODEL_db89ca91bd41418daa8e0fcc6c3be6c9"
          }
        },
        "2716cb3062f84091bebae9af8968b396": {
          "model_module": "@jupyter-widgets/controls",
          "model_name": "HTMLModel",
          "model_module_version": "1.5.0",
          "state": {
            "_dom_classes": [],
            "_model_module": "@jupyter-widgets/controls",
            "_model_module_version": "1.5.0",
            "_model_name": "HTMLModel",
            "_view_count": null,
            "_view_module": "@jupyter-widgets/controls",
            "_view_module_version": "1.5.0",
            "_view_name": "HTMLView",
            "description": "",
            "description_tooltip": null,
            "layout": "IPY_MODEL_f162c265f10f4646acb978c04981ac7a",
            "placeholder": "​",
            "style": "IPY_MODEL_1fe62c402f9b4bf4bfb4686ccf4730d4",
            "value": "Extraction completed...:   0%"
          }
        },
        "414464514a0c40378efb78f565a59139": {
          "model_module": "@jupyter-widgets/controls",
          "model_name": "FloatProgressModel",
          "model_module_version": "1.5.0",
          "state": {
            "_dom_classes": [],
            "_model_module": "@jupyter-widgets/controls",
            "_model_module_version": "1.5.0",
            "_model_name": "FloatProgressModel",
            "_view_count": null,
            "_view_module": "@jupyter-widgets/controls",
            "_view_module_version": "1.5.0",
            "_view_name": "ProgressView",
            "bar_style": "info",
            "description": "",
            "description_tooltip": null,
            "layout": "IPY_MODEL_4ffc294b41b84f8ea6672d6a42c3108b",
            "max": 1,
            "min": 0,
            "orientation": "horizontal",
            "style": "IPY_MODEL_4cee71767fc74332928020cbcbab16dc",
            "value": 0
          }
        },
        "ef7d026a0baf4c48ae993e4245faab70": {
          "model_module": "@jupyter-widgets/controls",
          "model_name": "HTMLModel",
          "model_module_version": "1.5.0",
          "state": {
            "_dom_classes": [],
            "_model_module": "@jupyter-widgets/controls",
            "_model_module_version": "1.5.0",
            "_model_name": "HTMLModel",
            "_view_count": null,
            "_view_module": "@jupyter-widgets/controls",
            "_view_module_version": "1.5.0",
            "_view_name": "HTMLView",
            "description": "",
            "description_tooltip": null,
            "layout": "IPY_MODEL_46c24b4c4d064a5faa37f04c25a47e10",
            "placeholder": "​",
            "style": "IPY_MODEL_492679ae24c34d7e85b0f076ca82b5da",
            "value": " 0/17539 [00:34&lt;?, ? file/s]"
          }
        },
        "db89ca91bd41418daa8e0fcc6c3be6c9": {
          "model_module": "@jupyter-widgets/base",
          "model_name": "LayoutModel",
          "model_module_version": "1.2.0",
          "state": {
            "_model_module": "@jupyter-widgets/base",
            "_model_module_version": "1.2.0",
            "_model_name": "LayoutModel",
            "_view_count": null,
            "_view_module": "@jupyter-widgets/base",
            "_view_module_version": "1.2.0",
            "_view_name": "LayoutView",
            "align_content": null,
            "align_items": null,
            "align_self": null,
            "border": null,
            "bottom": null,
            "display": null,
            "flex": null,
            "flex_flow": null,
            "grid_area": null,
            "grid_auto_columns": null,
            "grid_auto_flow": null,
            "grid_auto_rows": null,
            "grid_column": null,
            "grid_gap": null,
            "grid_row": null,
            "grid_template_areas": null,
            "grid_template_columns": null,
            "grid_template_rows": null,
            "height": null,
            "justify_content": null,
            "justify_items": null,
            "left": null,
            "margin": null,
            "max_height": null,
            "max_width": null,
            "min_height": null,
            "min_width": null,
            "object_fit": null,
            "object_position": null,
            "order": null,
            "overflow": null,
            "overflow_x": null,
            "overflow_y": null,
            "padding": null,
            "right": null,
            "top": null,
            "visibility": null,
            "width": null
          }
        },
        "f162c265f10f4646acb978c04981ac7a": {
          "model_module": "@jupyter-widgets/base",
          "model_name": "LayoutModel",
          "model_module_version": "1.2.0",
          "state": {
            "_model_module": "@jupyter-widgets/base",
            "_model_module_version": "1.2.0",
            "_model_name": "LayoutModel",
            "_view_count": null,
            "_view_module": "@jupyter-widgets/base",
            "_view_module_version": "1.2.0",
            "_view_name": "LayoutView",
            "align_content": null,
            "align_items": null,
            "align_self": null,
            "border": null,
            "bottom": null,
            "display": null,
            "flex": null,
            "flex_flow": null,
            "grid_area": null,
            "grid_auto_columns": null,
            "grid_auto_flow": null,
            "grid_auto_rows": null,
            "grid_column": null,
            "grid_gap": null,
            "grid_row": null,
            "grid_template_areas": null,
            "grid_template_columns": null,
            "grid_template_rows": null,
            "height": null,
            "justify_content": null,
            "justify_items": null,
            "left": null,
            "margin": null,
            "max_height": null,
            "max_width": null,
            "min_height": null,
            "min_width": null,
            "object_fit": null,
            "object_position": null,
            "order": null,
            "overflow": null,
            "overflow_x": null,
            "overflow_y": null,
            "padding": null,
            "right": null,
            "top": null,
            "visibility": null,
            "width": null
          }
        },
        "1fe62c402f9b4bf4bfb4686ccf4730d4": {
          "model_module": "@jupyter-widgets/controls",
          "model_name": "DescriptionStyleModel",
          "model_module_version": "1.5.0",
          "state": {
            "_model_module": "@jupyter-widgets/controls",
            "_model_module_version": "1.5.0",
            "_model_name": "DescriptionStyleModel",
            "_view_count": null,
            "_view_module": "@jupyter-widgets/base",
            "_view_module_version": "1.2.0",
            "_view_name": "StyleView",
            "description_width": ""
          }
        },
        "4ffc294b41b84f8ea6672d6a42c3108b": {
          "model_module": "@jupyter-widgets/base",
          "model_name": "LayoutModel",
          "model_module_version": "1.2.0",
          "state": {
            "_model_module": "@jupyter-widgets/base",
            "_model_module_version": "1.2.0",
            "_model_name": "LayoutModel",
            "_view_count": null,
            "_view_module": "@jupyter-widgets/base",
            "_view_module_version": "1.2.0",
            "_view_name": "LayoutView",
            "align_content": null,
            "align_items": null,
            "align_self": null,
            "border": null,
            "bottom": null,
            "display": null,
            "flex": null,
            "flex_flow": null,
            "grid_area": null,
            "grid_auto_columns": null,
            "grid_auto_flow": null,
            "grid_auto_rows": null,
            "grid_column": null,
            "grid_gap": null,
            "grid_row": null,
            "grid_template_areas": null,
            "grid_template_columns": null,
            "grid_template_rows": null,
            "height": null,
            "justify_content": null,
            "justify_items": null,
            "left": null,
            "margin": null,
            "max_height": null,
            "max_width": null,
            "min_height": null,
            "min_width": null,
            "object_fit": null,
            "object_position": null,
            "order": null,
            "overflow": null,
            "overflow_x": null,
            "overflow_y": null,
            "padding": null,
            "right": null,
            "top": null,
            "visibility": null,
            "width": "20px"
          }
        },
        "4cee71767fc74332928020cbcbab16dc": {
          "model_module": "@jupyter-widgets/controls",
          "model_name": "ProgressStyleModel",
          "model_module_version": "1.5.0",
          "state": {
            "_model_module": "@jupyter-widgets/controls",
            "_model_module_version": "1.5.0",
            "_model_name": "ProgressStyleModel",
            "_view_count": null,
            "_view_module": "@jupyter-widgets/base",
            "_view_module_version": "1.2.0",
            "_view_name": "StyleView",
            "bar_color": null,
            "description_width": ""
          }
        },
        "46c24b4c4d064a5faa37f04c25a47e10": {
          "model_module": "@jupyter-widgets/base",
          "model_name": "LayoutModel",
          "model_module_version": "1.2.0",
          "state": {
            "_model_module": "@jupyter-widgets/base",
            "_model_module_version": "1.2.0",
            "_model_name": "LayoutModel",
            "_view_count": null,
            "_view_module": "@jupyter-widgets/base",
            "_view_module_version": "1.2.0",
            "_view_name": "LayoutView",
            "align_content": null,
            "align_items": null,
            "align_self": null,
            "border": null,
            "bottom": null,
            "display": null,
            "flex": null,
            "flex_flow": null,
            "grid_area": null,
            "grid_auto_columns": null,
            "grid_auto_flow": null,
            "grid_auto_rows": null,
            "grid_column": null,
            "grid_gap": null,
            "grid_row": null,
            "grid_template_areas": null,
            "grid_template_columns": null,
            "grid_template_rows": null,
            "height": null,
            "justify_content": null,
            "justify_items": null,
            "left": null,
            "margin": null,
            "max_height": null,
            "max_width": null,
            "min_height": null,
            "min_width": null,
            "object_fit": null,
            "object_position": null,
            "order": null,
            "overflow": null,
            "overflow_x": null,
            "overflow_y": null,
            "padding": null,
            "right": null,
            "top": null,
            "visibility": null,
            "width": null
          }
        },
        "492679ae24c34d7e85b0f076ca82b5da": {
          "model_module": "@jupyter-widgets/controls",
          "model_name": "DescriptionStyleModel",
          "model_module_version": "1.5.0",
          "state": {
            "_model_module": "@jupyter-widgets/controls",
            "_model_module_version": "1.5.0",
            "_model_name": "DescriptionStyleModel",
            "_view_count": null,
            "_view_module": "@jupyter-widgets/base",
            "_view_module_version": "1.2.0",
            "_view_name": "StyleView",
            "description_width": ""
          }
        }
      }
    }
  },
  "nbformat": 4,
  "nbformat_minor": 5
}